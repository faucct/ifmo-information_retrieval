{
 "cells": [
  {
   "cell_type": "markdown",
   "metadata": {},
   "source": [
    "# Task1. Part 2"
   ]
  },
  {
   "cell_type": "markdown",
   "metadata": {},
   "source": [
    "## Common"
   ]
  },
  {
   "cell_type": "code",
   "execution_count": 1,
   "metadata": {},
   "outputs": [],
   "source": [
    "import pandas as pd\n",
    "import numpy as np\n",
    "import matplotlib.pyplot as plt\n",
    "from lxml import etree\n",
    "import base64\n",
    "import os.path\n",
    "import functools\n",
    "import math\n",
    "import os\n",
    "from alphabet_detector import AlphabetDetector\n",
    "import subprocess\n",
    "from pymystem3 import Mystem\n",
    "from time import time\n",
    "\n",
    "%matplotlib inline"
   ]
  },
  {
   "cell_type": "code",
   "execution_count": 2,
   "metadata": {},
   "outputs": [],
   "source": [
    "mystem = Mystem()"
   ]
  },
  {
   "cell_type": "code",
   "execution_count": 3,
   "metadata": {},
   "outputs": [],
   "source": [
    "COMMON_PATH = '../../'\n",
    "DATA_PATH = COMMON_PATH + 'data/01/'\n",
    "MYSTEMPATH = COMMON_PATH + \"other_programs/mystem/mystem\"\n",
    "TMP_PATH = './'\n",
    "PATH_WITH_DATA_FROM_NIKITA = DATA_PATH + 'after_first_iteration/'\n"
   ]
  },
  {
   "cell_type": "code",
   "execution_count": 4,
   "metadata": {},
   "outputs": [],
   "source": [
    "list_of_files = [\"texts.{}.base64\".format(i) for i in range(0, 10)]\n",
    "# list_of_files = [\"texts.0.base64\"]\n",
    "# list_of_files = [\"tmp_texts\"]"
   ]
  },
  {
   "cell_type": "markdown",
   "metadata": {},
   "source": [
    "## Приведите слова документов к нижнему регистру и леммам (словарным формам) с помощью mystem"
   ]
  },
  {
   "cell_type": "code",
   "execution_count": 5,
   "metadata": {},
   "outputs": [],
   "source": [
    "def update_dicts(list_of_str):\n",
    "    for key in list_of_str:\n",
    "        if key in dict_words_numbers_words:\n",
    "            dict_words_numbers_words[key] += 1\n",
    "        else:\n",
    "            dict_words_numbers_words[key] = 1\n",
    "    \n",
    "    for key in set(list_of_str):\n",
    "        if key in dict_words_numbers_documents:\n",
    "            dict_words_numbers_documents[key] += 1\n",
    "        else:\n",
    "            dict_words_numbers_documents[key] = 1"
   ]
  },
  {
   "cell_type": "code",
   "execution_count": 6,
   "metadata": {},
   "outputs": [],
   "source": [
    "def decoding(path):\n",
    "    texts_path = PATH_WITH_DATA_FROM_NIKITA + path\n",
    "    assert(os.path.isfile(texts_path))\n",
    "    \n",
    "    file = open(texts_path, 'r')\n",
    "\n",
    "    text = file.read()\n",
    "    file.close()\n",
    "    decoding_lines = []\n",
    "\n",
    "    for element in text.split():\n",
    "        decoding_lines.append(base64.b64decode(element))\n",
    "    \n",
    "    return decoding_lines"
   ]
  },
  {
   "cell_type": "code",
   "execution_count": 7,
   "metadata": {},
   "outputs": [],
   "source": [
    "step_for_printing = 1000\n",
    "\n",
    "def text_processing(decoding_lines):\n",
    "    global number_of_documents\n",
    "    for row in decoding_lines:\n",
    "        if number_of_documents % step_for_printing == 0:\n",
    "            print(\"step: {}\".format(number_of_documents / step_for_printing))\n",
    "        number_of_documents += 1\n",
    "        decoding_str = row.decode().lower()\n",
    "        str_after_stem = list(filter(lambda x: x.isalpha(),  mystem.lemmatize(decoding_str)))\n",
    "        update_dicts(str_after_stem)\n"
   ]
  },
  {
   "cell_type": "code",
   "execution_count": 8,
   "metadata": {},
   "outputs": [
    {
     "name": "stdout",
     "output_type": "stream",
     "text": [
      "step: 0.0\n",
      "step: 1.0\n",
      "step: 2.0\n",
      "step: 3.0\n",
      "step: 4.0\n",
      "step: 5.0\n",
      "step: 6.0\n",
      "step: 7.0\n",
      "step: 8.0\n",
      "step: 9.0\n",
      "step: 10.0\n",
      "step: 11.0\n",
      "step: 12.0\n",
      "step: 13.0\n",
      "step: 14.0\n",
      "step: 15.0\n",
      "step: 16.0\n",
      "step: 17.0\n",
      "step: 18.0\n",
      "step: 19.0\n",
      "step: 20.0\n",
      "step: 21.0\n",
      "step: 22.0\n",
      "step: 23.0\n",
      "step: 24.0\n",
      "step: 25.0\n",
      "step: 26.0\n",
      "step: 27.0\n",
      "step: 28.0\n",
      "step: 29.0\n",
      "step: 30.0\n",
      "step: 31.0\n",
      "step: 32.0\n",
      "step: 33.0\n",
      "step: 34.0\n",
      "step: 35.0\n",
      "step: 36.0\n",
      "step: 37.0\n",
      "step: 38.0\n",
      "step: 39.0\n",
      "step: 40.0\n",
      "step: 41.0\n",
      "step: 42.0\n",
      "step: 43.0\n",
      "step: 44.0\n",
      "step: 45.0\n",
      "step: 46.0\n",
      "step: 47.0\n",
      "step: 48.0\n",
      "step: 49.0\n",
      "step: 50.0\n",
      "step: 51.0\n",
      "step: 52.0\n",
      "step: 53.0\n",
      "step: 54.0\n",
      "step: 55.0\n",
      "step: 56.0\n",
      "step: 57.0\n",
      "step: 58.0\n",
      "step: 59.0\n",
      "step: 60.0\n",
      "step: 61.0\n",
      "step: 62.0\n",
      "step: 63.0\n",
      "step: 64.0\n",
      "step: 65.0\n",
      "step: 66.0\n",
      "step: 67.0\n",
      "step: 68.0\n",
      "step: 69.0\n",
      "step: 70.0\n",
      "step: 71.0\n",
      "step: 72.0\n",
      "step: 73.0\n",
      "step: 74.0\n",
      "step: 75.0\n",
      "step: 76.0\n",
      "step: 77.0\n",
      "step: 78.0\n",
      "step: 79.0\n",
      "step: 80.0\n",
      "step: 81.0\n",
      "step: 82.0\n",
      "step: 83.0\n",
      "step: 84.0\n",
      "step: 85.0\n",
      "step: 86.0\n",
      "step: 87.0\n",
      "step: 88.0\n",
      "step: 89.0\n",
      "step: 90.0\n",
      "step: 91.0\n",
      "step: 92.0\n",
      "step: 93.0\n",
      "step: 94.0\n",
      "step: 95.0\n",
      "step: 96.0\n",
      "step: 97.0\n",
      "step: 98.0\n",
      "step: 99.0\n",
      "step: 100.0\n",
      "step: 101.0\n",
      "step: 102.0\n",
      "step: 103.0\n",
      "step: 104.0\n",
      "step: 105.0\n",
      "step: 106.0\n",
      "step: 107.0\n",
      "step: 108.0\n",
      "step: 109.0\n",
      "step: 110.0\n",
      "step: 111.0\n",
      "step: 112.0\n",
      "step: 113.0\n",
      "step: 114.0\n",
      "step: 115.0\n",
      "step: 116.0\n",
      "step: 117.0\n",
      "step: 118.0\n",
      "step: 119.0\n",
      "step: 120.0\n",
      "step: 121.0\n",
      "step: 122.0\n",
      "step: 123.0\n",
      "step: 124.0\n",
      "step: 125.0\n",
      "step: 126.0\n",
      "step: 127.0\n",
      "step: 128.0\n",
      "step: 129.0\n",
      "step: 130.0\n",
      "step: 131.0\n",
      "step: 132.0\n",
      "step: 133.0\n",
      "step: 134.0\n",
      "step: 135.0\n",
      "step: 136.0\n",
      "step: 137.0\n",
      "step: 138.0\n",
      "step: 139.0\n",
      "step: 140.0\n",
      "step: 141.0\n",
      "step: 142.0\n",
      "step: 143.0\n",
      "step: 144.0\n",
      "step: 145.0\n",
      "step: 146.0\n",
      "step: 147.0\n",
      "step: 148.0\n",
      "step: 149.0\n",
      "step: 150.0\n",
      "step: 151.0\n",
      "step: 152.0\n",
      "step: 153.0\n",
      "step: 154.0\n",
      "step: 155.0\n",
      "step: 156.0\n",
      "step: 157.0\n",
      "step: 158.0\n",
      "step: 159.0\n",
      "step: 160.0\n",
      "step: 161.0\n",
      "step: 162.0\n",
      "step: 163.0\n",
      "step: 164.0\n",
      "step: 165.0\n",
      "step: 166.0\n",
      "step: 167.0\n",
      "step: 168.0\n",
      "step: 169.0\n",
      "step: 170.0\n",
      "step: 171.0\n",
      "step: 172.0\n",
      "step: 173.0\n",
      "step: 174.0\n",
      "step: 175.0\n",
      "step: 176.0\n",
      "step: 177.0\n",
      "step: 178.0\n",
      "step: 179.0\n",
      "step: 180.0\n",
      "step: 181.0\n",
      "step: 182.0\n",
      "step: 183.0\n",
      "step: 184.0\n",
      "step: 185.0\n",
      "step: 186.0\n",
      "step: 187.0\n",
      "step: 188.0\n",
      "step: 189.0\n",
      "step: 190.0\n",
      "step: 191.0\n",
      "step: 192.0\n",
      "step: 193.0\n",
      "step: 194.0\n",
      "step: 195.0\n",
      "step: 196.0\n",
      "step: 197.0\n",
      "step: 198.0\n",
      "step: 199.0\n"
     ]
    }
   ],
   "source": [
    "dict_words_numbers_words = dict()\n",
    "dict_words_numbers_documents = dict()\n",
    "number_of_documents = 0\n",
    "\n",
    "for file_name in list_of_files:\n",
    "   \n",
    "    decoding_lines = decoding(file_name)\n",
    "    text_processing(decoding_lines)"
   ]
  },
  {
   "cell_type": "markdown",
   "metadata": {},
   "source": [
    "## Какую долю коллекции составляют стоп-слова (их можно взять, например здесь)?  "
   ]
  },
  {
   "cell_type": "code",
   "execution_count": 9,
   "metadata": {},
   "outputs": [],
   "source": [
    "file = open(DATA_PATH + 'stopwords/russian')\n",
    "stop_words = list(file.read().split())"
   ]
  },
  {
   "cell_type": "code",
   "execution_count": 10,
   "metadata": {},
   "outputs": [
    {
     "name": "stdout",
     "output_type": "stream",
     "text": [
      "stop_words: 29703198, normal_words: 122122345, frequency: 0.19564032120734784\n"
     ]
    }
   ],
   "source": [
    "count_stop_words, count_not_stop_words = (0, 0)\n",
    "for key, value in dict_words_numbers_words.items():\n",
    "    if key in stop_words:\n",
    "        count_stop_words += value\n",
    "    else:\n",
    "        count_not_stop_words += value\n",
    "print(\"stop_words: {}, normal_words: {}, frequency: {}\".format(count_stop_words, count_not_stop_words, count_stop_words / (count_stop_words + count_not_stop_words)))"
   ]
  },
  {
   "cell_type": "markdown",
   "metadata": {},
   "source": [
    "## Посчитайте среднюю длину слова в коллекции и словаре"
   ]
  },
  {
   "cell_type": "code",
   "execution_count": 11,
   "metadata": {},
   "outputs": [],
   "source": [
    "number_words_in_collection = sum(dict_words_numbers_words.values())\n",
    "number_words_in_dict = len(dict_words_numbers_words.values())\n"
   ]
  },
  {
   "cell_type": "code",
   "execution_count": 12,
   "metadata": {},
   "outputs": [
    {
     "name": "stdout",
     "output_type": "stream",
     "text": [
      "9.16024478452464 5.7932990037124386\n"
     ]
    }
   ],
   "source": [
    "sum_len_words_in_dict, sum_len_words_in_collection = (0, 0)\n",
    "for key, value in dict_words_numbers_words.items():\n",
    "    key_len = len(key)\n",
    "    sum_len_words_in_dict += key_len\n",
    "    sum_len_words_in_collection += key_len * value\n",
    "print(sum_len_words_in_dict / len(dict_words_numbers_words), sum_len_words_in_collection / sum(dict_words_numbers_words.values()))"
   ]
  },
  {
   "cell_type": "markdown",
   "metadata": {},
   "source": [
    "#  долю слов латиницей."
   ]
  },
  {
   "cell_type": "code",
   "execution_count": 13,
   "metadata": {},
   "outputs": [],
   "source": [
    "ad = AlphabetDetector()"
   ]
  },
  {
   "cell_type": "code",
   "execution_count": 14,
   "metadata": {},
   "outputs": [
    {
     "name": "stdout",
     "output_type": "stream",
     "text": [
      "26740747 125084796 0.17612811699280403\n"
     ]
    }
   ],
   "source": [
    "num_is_english, num_is_not_english = (0, 0)\n",
    "for key, value in dict_words_numbers_words.items():\n",
    "    if ad.is_latin(key):\n",
    "        num_is_english += value\n",
    "    else:\n",
    "        num_is_not_english += value\n",
    "print(num_is_english, num_is_not_english, num_is_english / (num_is_english + num_is_not_english))"
   ]
  },
  {
   "cell_type": "markdown",
   "metadata": {},
   "source": [
    "## Удалить все латинские слова и все stop слова. Пересчитать number_words_*"
   ]
  },
  {
   "cell_type": "code",
   "execution_count": 43,
   "metadata": {},
   "outputs": [],
   "source": [
    "def filters(dict_words):\n",
    "    first = dict(filter(lambda row: row[0] not in stop_words, dict_words.items()))\n",
    "    second = dict(filter(lambda row: not ad.is_latin(row[0]), first.items()))\n",
    "    res = second\n",
    "    return res"
   ]
  },
  {
   "cell_type": "code",
   "execution_count": 20,
   "metadata": {},
   "outputs": [],
   "source": [
    "dict_words_numbers_documents_before_filter = dict_words_numbers_documents\n",
    "dict_words_numbers_words_before_filter = dict_words_numbers_words"
   ]
  },
  {
   "cell_type": "code",
   "execution_count": 45,
   "metadata": {},
   "outputs": [],
   "source": [
    "dict_words_numbers_documents = filters(dict_words_numbers_documents)\n",
    "dict_words_numbers_words = filters(dict_words_numbers_words)"
   ]
  },
  {
   "cell_type": "code",
   "execution_count": 49,
   "metadata": {},
   "outputs": [],
   "source": [
    "number_words_in_collection = sum(dict_words_numbers_words.values())\n",
    "number_words_in_dict = len(dict_words_numbers_words.values())\n"
   ]
  },
  {
   "cell_type": "markdown",
   "metadata": {},
   "source": [
    "## Для слов из словаря коллекции посчитайте частоту в коллекции (collection frequency, cf) и инвертированную документную частоту (inverse document frequency, idf), приведите “верхушки” списков."
   ]
  },
  {
   "cell_type": "code",
   "execution_count": 50,
   "metadata": {},
   "outputs": [
    {
     "data": {
      "text/plain": [
       "[(0.006228916399576363, 'сообщение'),\n",
       " (0.004750266398346566, 'г'),\n",
       " (0.0046756817808818844, 'весь'),\n",
       " (0.00462552535553032, 'это'),\n",
       " (0.004579929558320044, 'год'),\n",
       " (0.003940445619290212, 'беларусь'),\n",
       " (0.0037545397383675623, 'р'),\n",
       " (0.003464945093496966, 'который'),\n",
       " (0.003435400610503506, 'мочь'),\n",
       " (0.0033483817287271703, 'форум')]"
      ]
     },
     "execution_count": 50,
     "metadata": {},
     "output_type": "execute_result"
    }
   ],
   "source": [
    "cf = sorted(map(lambda elem: (elem[1] / number_words_in_collection, elem[0]), dict_words_numbers_words.items()), reverse=True)\n",
    "cf[:10]"
   ]
  },
  {
   "cell_type": "code",
   "execution_count": 51,
   "metadata": {},
   "outputs": [
    {
     "data": {
      "text/plain": [
       "[(0.4604731885142856, 'весь'),\n",
       " (0.5552042829483363, 'сайт'),\n",
       " (0.6323719818454865, 'главный'),\n",
       " (0.6763588957542469, 'новость'),\n",
       " (0.7213203432435397, 'поиск'),\n",
       " (0.8204693191352953, 'форум'),\n",
       " (0.8222996034539128, 'новый'),\n",
       " (0.8311915987245914, 'год'),\n",
       " (0.8343766992986825, 'беларусь'),\n",
       " (0.8434004651085082, 'минск')]"
      ]
     },
     "execution_count": 51,
     "metadata": {},
     "output_type": "execute_result"
    }
   ],
   "source": [
    "idf = sorted(map(lambda elem: (math.log(number_of_documents / elem[1]), elem[0]), dict_words_numbers_documents.items()), reverse=False)\n",
    "idf[:10]"
   ]
  },
  {
   "cell_type": "code",
   "execution_count": 52,
   "metadata": {},
   "outputs": [],
   "source": [
    "print(*cf, sep='\\n', file=open('cf', 'w'))\n",
    "print(*idf, sep='\\n', file=open('idf', 'w'))"
   ]
  },
  {
   "cell_type": "markdown",
   "metadata": {},
   "source": [
    "## Постройте график зависимости ранга слова от частоты в логарифмических координатах."
   ]
  },
  {
   "cell_type": "code",
   "execution_count": 58,
   "metadata": {},
   "outputs": [
    {
     "data": {
      "text/plain": [
       "[<matplotlib.lines.Line2D at 0x7f1c7f5905c0>]"
      ]
     },
     "execution_count": 58,
     "metadata": {},
     "output_type": "execute_result"
    },
    {
     "data": {
      "image/png": "[encoded data removed]",
      "text/plain": [
       "<Figure size 432x288 with 1 Axes>"
      ]
     },
     "metadata": {
      "needs_background": "light"
     },
     "output_type": "display_data"
    }
   ],
   "source": [
    "plt.loglog(list(map(lambda elem: elem[0], cf)))"
   ]
  },
  {
   "cell_type": "markdown",
   "metadata": {},
   "source": [
    "# TMP"
   ]
  },
  {
   "cell_type": "code",
   "execution_count": 18,
   "metadata": {},
   "outputs": [
    {
     "data": {
      "text/plain": [
       "[<matplotlib.lines.Line2D at 0x7f1c8437d198>]"
      ]
     },
     "execution_count": 18,
     "metadata": {},
     "output_type": "execute_result"
    },
    {
     "data": {
      "image/png": "[encoded data removed]",
      "text/plain": [
       "<Figure size 432x288 with 1 Axes>"
      ]
     },
     "metadata": {
      "needs_background": "light"
     },
     "output_type": "display_data"
    }
   ],
   "source": [
    "log_rank = list(map(lambda elem: math.log(elem[0] * number_words_in_collection), cf))\n",
    "\n",
    "log_rank_len = math.log2(len(log_rank))\n",
    "\n",
    "x = list(range(int(log_rank_len)))\n",
    "\n",
    "y = [log_rank[2 ** i] for i in x]\n",
    "\n",
    "plt.plot(x, y)"
   ]
  },
  {
   "cell_type": "code",
   "execution_count": null,
   "metadata": {},
   "outputs": [],
   "source": []
  }
 ],
 "metadata": {
  "kernelspec": {
   "display_name": "Python 3",
   "language": "python",
   "name": "python3"
  },
  "language_info": {
   "codemirror_mode": {
    "name": "ipython",
    "version": 3
   },
   "file_extension": ".py",
   "mimetype": "text/x-python",
   "name": "python",
   "nbconvert_exporter": "python",
   "pygments_lexer": "ipython3",
   "version": "3.6.8"
  }
 },
 "nbformat": 4,
 "nbformat_minor": 2
}
